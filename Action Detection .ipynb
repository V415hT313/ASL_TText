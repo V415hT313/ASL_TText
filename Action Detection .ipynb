{
 "cells": [
  {
   "cell_type": "code",
   "execution_count": 1,
   "id": "9f58d023",
   "metadata": {},
   "outputs": [],
   "source": [
    "# Import and install depencies\n"
   ]
  },
  {
   "cell_type": "code",
   "execution_count": 7,
   "id": "66132456",
   "metadata": {},
   "outputs": [
    {
     "name": "stdout",
     "output_type": "stream",
     "text": [
      "Collecting tensorflow==2.15.0\n",
      "  Using cached tensorflow-2.15.0-cp39-cp39-win_amd64.whl (2.1 kB)\n",
      "Collecting tensorflow-gpu==2.10.0\n",
      "  Using cached tensorflow_gpu-2.10.0-cp39-cp39-win_amd64.whl (455.9 MB)\n",
      "Collecting opencv-python\n",
      "  Using cached opencv_python-4.9.0.80-cp37-abi3-win_amd64.whl (38.6 MB)\n",
      "Collecting mediapipe\n",
      "  Using cached mediapipe-0.10.9-cp39-cp39-win_amd64.whl (50.5 MB)\n",
      "Requirement already satisfied: scikit-learn in c:\\users\\vashu\\anaconda3\\anaconda\\lib\\site-packages (1.0.2)\n",
      "Requirement already satisfied: matplotlib in c:\\users\\vashu\\anaconda3\\anaconda\\lib\\site-packages (3.5.2)\n",
      "Collecting tensorflow-intel==2.15.0\n",
      "  Downloading tensorflow_intel-2.15.0-cp39-cp39-win_amd64.whl (300.8 MB)\n",
      "     ------------------------------------ 300.8/300.8 MB 886.8 kB/s eta 0:00:00\n",
      "Requirement already satisfied: tensorflow-io-gcs-filesystem>=0.23.1 in c:\\users\\vashu\\anaconda3\\anaconda\\lib\\site-packages (from tensorflow-gpu==2.10.0) (0.31.0)\n",
      "Requirement already satisfied: typing-extensions>=3.6.6 in c:\\users\\vashu\\anaconda3\\anaconda\\lib\\site-packages (from tensorflow-gpu==2.10.0) (4.3.0)\n",
      "Requirement already satisfied: wrapt>=1.11.0 in c:\\users\\vashu\\anaconda3\\anaconda\\lib\\site-packages (from tensorflow-gpu==2.10.0) (1.14.1)\n",
      "Collecting keras-preprocessing>=1.1.1\n",
      "  Using cached Keras_Preprocessing-1.1.2-py2.py3-none-any.whl (42 kB)\n",
      "Requirement already satisfied: astunparse>=1.6.0 in c:\\users\\vashu\\anaconda3\\anaconda\\lib\\site-packages (from tensorflow-gpu==2.10.0) (1.6.3)\n",
      "Requirement already satisfied: gast<=0.4.0,>=0.2.1 in c:\\users\\vashu\\anaconda3\\anaconda\\lib\\site-packages (from tensorflow-gpu==2.10.0) (0.4.0)\n",
      "Requirement already satisfied: numpy>=1.20 in c:\\users\\vashu\\anaconda3\\anaconda\\lib\\site-packages (from tensorflow-gpu==2.10.0) (1.21.5)\n",
      "Collecting tensorboard<2.11,>=2.10\n",
      "  Using cached tensorboard-2.10.1-py3-none-any.whl (5.9 MB)\n",
      "Requirement already satisfied: six>=1.12.0 in c:\\users\\vashu\\anaconda3\\anaconda\\lib\\site-packages (from tensorflow-gpu==2.10.0) (1.16.0)\n",
      "Requirement already satisfied: h5py>=2.9.0 in c:\\users\\vashu\\anaconda3\\anaconda\\lib\\site-packages (from tensorflow-gpu==2.10.0) (3.7.0)\n",
      "Collecting keras<2.11,>=2.10.0\n",
      "  Using cached keras-2.10.0-py2.py3-none-any.whl (1.7 MB)\n",
      "Requirement already satisfied: setuptools in c:\\users\\vashu\\anaconda3\\anaconda\\lib\\site-packages (from tensorflow-gpu==2.10.0) (63.4.1)\n",
      "Collecting tensorflow-estimator<2.11,>=2.10.0\n",
      "  Using cached tensorflow_estimator-2.10.0-py2.py3-none-any.whl (438 kB)\n",
      "Requirement already satisfied: opt-einsum>=2.3.2 in c:\\users\\vashu\\anaconda3\\anaconda\\lib\\site-packages (from tensorflow-gpu==2.10.0) (3.3.0)\n",
      "Requirement already satisfied: grpcio<2.0,>=1.24.3 in c:\\users\\vashu\\anaconda3\\anaconda\\lib\\site-packages (from tensorflow-gpu==2.10.0) (1.51.3)\n",
      "Requirement already satisfied: absl-py>=1.0.0 in c:\\users\\vashu\\anaconda3\\anaconda\\lib\\site-packages (from tensorflow-gpu==2.10.0) (1.4.0)\n",
      "Requirement already satisfied: termcolor>=1.1.0 in c:\\users\\vashu\\anaconda3\\anaconda\\lib\\site-packages (from tensorflow-gpu==2.10.0) (2.2.0)\n",
      "Requirement already satisfied: google-pasta>=0.1.1 in c:\\users\\vashu\\anaconda3\\anaconda\\lib\\site-packages (from tensorflow-gpu==2.10.0) (0.2.0)\n",
      "Requirement already satisfied: libclang>=13.0.0 in c:\\users\\vashu\\anaconda3\\anaconda\\lib\\site-packages (from tensorflow-gpu==2.10.0) (15.0.6.1)\n",
      "Requirement already satisfied: packaging in c:\\users\\vashu\\appdata\\roaming\\python\\python39\\site-packages (from tensorflow-gpu==2.10.0) (23.0)\n",
      "Requirement already satisfied: flatbuffers>=2.0 in c:\\users\\vashu\\anaconda3\\anaconda\\lib\\site-packages (from tensorflow-gpu==2.10.0) (23.3.3)\n",
      "Requirement already satisfied: protobuf<3.20,>=3.9.2 in c:\\users\\vashu\\anaconda3\\anaconda\\lib\\site-packages (from tensorflow-gpu==2.10.0) (3.19.6)\n",
      "INFO: pip is looking at multiple versions of tensorflow-gpu to determine which version is compatible with other requirements. This could take a while.\n",
      "INFO: pip is looking at multiple versions of <Python from Requires-Python> to determine which version is compatible with other requirements. This could take a while.\n",
      "INFO: pip is looking at multiple versions of tensorflow to determine which version is compatible with other requirements. This could take a while.\n",
      "\n",
      "The conflict is caused by:\n",
      "    tensorflow-gpu 2.10.0 depends on protobuf<3.20 and >=3.9.2\n",
      "    tensorflow-intel 2.15.0 depends on protobuf!=4.21.0, !=4.21.1, !=4.21.2, !=4.21.3, !=4.21.4, !=4.21.5, <5.0.0dev and >=3.20.3\n",
      "\n",
      "To fix this you could try to:\n",
      "1. loosen the range of package versions you've specified\n",
      "2. remove package versions to allow pip attempt to solve the dependency conflict\n",
      "\n"
     ]
    },
    {
     "name": "stderr",
     "output_type": "stream",
     "text": [
      "ERROR: Cannot install tensorflow and tensorflow-gpu==2.10.0 because these package versions have conflicting dependencies.\n",
      "ERROR: ResolutionImpossible: for help visit https://pip.pypa.io/en/latest/topics/dependency-resolution/#dealing-with-dependency-conflicts\n"
     ]
    }
   ],
   "source": [
    "!pip install tensorflow==2.15.0 tensorflow-gpu==2.10.0 opencv-python mediapipe scikit-learn matplotlib"
   ]
  },
  {
   "cell_type": "code",
   "execution_count": null,
   "id": "2867cacd",
   "metadata": {},
   "outputs": [],
   "source": []
  }
 ],
 "metadata": {
  "kernelspec": {
   "display_name": "Python 3 (ipykernel)",
   "language": "python",
   "name": "python3"
  },
  "language_info": {
   "codemirror_mode": {
    "name": "ipython",
    "version": 3
   },
   "file_extension": ".py",
   "mimetype": "text/x-python",
   "name": "python",
   "nbconvert_exporter": "python",
   "pygments_lexer": "ipython3",
   "version": "3.9.13"
  }
 },
 "nbformat": 4,
 "nbformat_minor": 5
}
